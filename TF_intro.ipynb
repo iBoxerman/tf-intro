{
  "nbformat": 4,
  "nbformat_minor": 0,
  "metadata": {
    "colab": {
      "name": "TF intro.ipynb",
      "provenance": [],
      "authorship_tag": "ABX9TyO2iW8u2Pr0VL2VVZC1xOJ8",
      "include_colab_link": true
    },
    "kernelspec": {
      "name": "python3",
      "display_name": "Python 3"
    },
    "language_info": {
      "name": "python"
    }
  },
  "cells": [
    {
      "cell_type": "markdown",
      "metadata": {
        "id": "view-in-github",
        "colab_type": "text"
      },
      "source": [
        "<a href=\"https://colab.research.google.com/github/iBoxerman/tf-intro/blob/colab/TF_intro.ipynb\" target=\"_parent\"><img src=\"https://colab.research.google.com/assets/colab-badge.svg\" alt=\"Open In Colab\"/></a>"
      ]
    },
    {
      "cell_type": "code",
      "execution_count": null,
      "metadata": {
        "id": "i4AbksosGL-L"
      },
      "outputs": [],
      "source": [
        ""
      ]
    }
  ]
}